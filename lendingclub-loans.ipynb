{
 "cells": [
  {
   "cell_type": "markdown",
   "metadata": {},
   "source": [
    "## Lending Club Tech Challenge"
   ]
  },
  {
   "cell_type": "markdown",
   "metadata": {},
   "source": [
    "### Overview\n",
    "The Lending Club is an online peer-to-peer lender offtering loan trading on a secondary market.  The standard loan period is three years, and investors can search and select loans that they want to invest in based on the loan amount, loan grade, loan purpose and information about the borrower.  Lending Club's revenue comes from origination fees from borrowers and service fees from investors.  The origination fee ranges from 1.1% to 5.0% of the loan amount, and the service fee is 1% on the borrowed amount.  The Lending Club is the World's largest online marketplace connecting investors and borrowers.  As of December 31, 2016, Lending Club facilitated $24.6 loans since its launch in 2007."
   ]
  },
  {
   "cell_type": "markdown",
   "metadata": {},
   "source": [
    "### Dataset\n",
    "The dataset contains Lending Club's historical loan data from 2007 to 2014.  The dataset contains information about the status of loans (ex. whether they were written off, fully, paid, etc.) and information about borrowers (annual income, employment length, etc.)"
   ]
  },
  {
   "cell_type": "markdown",
   "metadata": {},
   "source": [
    "### Exploratory Data Analysis (EDA)"
   ]
  },
  {
   "cell_type": "code",
   "execution_count": 1,
   "metadata": {
    "collapsed": true
   },
   "outputs": [],
   "source": [
    "import pandas as pd\n",
    "import numpy as np\n",
    "import matplotlib.pyplot as plt\n",
    "import matplotlib\n",
    "%matplotlib inline\n",
    "import seaborn as sns\n",
    "import datetime\n",
    "from collections import Counter"
   ]
  },
  {
   "cell_type": "code",
   "execution_count": 2,
   "metadata": {
    "collapsed": false
   },
   "outputs": [
    {
     "name": "stderr",
     "output_type": "stream",
     "text": [
      "C:\\Users\\rchae\\AppData\\Local\\Continuum\\Anaconda2\\lib\\site-packages\\IPython\\core\\interactiveshell.py:2717: DtypeWarning: Columns (19) have mixed types. Specify dtype option on import or set low_memory=False.\n",
      "  interactivity=interactivity, compiler=compiler, result=result)\n"
     ]
    }
   ],
   "source": [
    "# load dataset\n",
    "df = pd.read_csv('dataset/loanStats.csv')"
   ]
  },
  {
   "cell_type": "code",
   "execution_count": 3,
   "metadata": {
    "collapsed": false
   },
   "outputs": [
    {
     "data": {
      "text/plain": [
       "(466287, 68)"
      ]
     },
     "execution_count": 3,
     "metadata": {},
     "output_type": "execute_result"
    }
   ],
   "source": [
    "df.shape"
   ]
  },
  {
   "cell_type": "code",
   "execution_count": 4,
   "metadata": {
    "collapsed": false
   },
   "outputs": [
    {
     "data": {
      "text/html": [
       "<div>\n",
       "<table border=\"1\" class=\"dataframe\">\n",
       "  <thead>\n",
       "    <tr style=\"text-align: right;\">\n",
       "      <th></th>\n",
       "      <th>null_values</th>\n",
       "    </tr>\n",
       "  </thead>\n",
       "  <tbody>\n",
       "    <tr>\n",
       "      <th>mths_since_last_record</th>\n",
       "      <td>403649</td>\n",
       "    </tr>\n",
       "    <tr>\n",
       "      <th>mths_since_last_major_derog</th>\n",
       "      <td>367312</td>\n",
       "    </tr>\n",
       "    <tr>\n",
       "      <th>desc</th>\n",
       "      <td>340318</td>\n",
       "    </tr>\n",
       "    <tr>\n",
       "      <th>mths_since_last_delinq</th>\n",
       "      <td>250351</td>\n",
       "    </tr>\n",
       "    <tr>\n",
       "      <th>next_pymnt_d</th>\n",
       "      <td>119700</td>\n",
       "    </tr>\n",
       "    <tr>\n",
       "      <th>...</th>\n",
       "      <td>...</td>\n",
       "    </tr>\n",
       "    <tr>\n",
       "      <th>member_id</th>\n",
       "      <td>0</td>\n",
       "    </tr>\n",
       "    <tr>\n",
       "      <th>initial_list_status</th>\n",
       "      <td>0</td>\n",
       "    </tr>\n",
       "    <tr>\n",
       "      <th>out_prncp</th>\n",
       "      <td>0</td>\n",
       "    </tr>\n",
       "    <tr>\n",
       "      <th>out_prncp_inv</th>\n",
       "      <td>0</td>\n",
       "    </tr>\n",
       "    <tr>\n",
       "      <th>last_major_derog_none</th>\n",
       "      <td>0</td>\n",
       "    </tr>\n",
       "  </tbody>\n",
       "</table>\n",
       "<p>68 rows × 1 columns</p>\n",
       "</div>"
      ],
      "text/plain": [
       "                             null_values\n",
       "mths_since_last_record            403649\n",
       "mths_since_last_major_derog       367312\n",
       "desc                              340318\n",
       "mths_since_last_delinq            250351\n",
       "next_pymnt_d                      119700\n",
       "...                                  ...\n",
       "member_id                              0\n",
       "initial_list_status                    0\n",
       "out_prncp                              0\n",
       "out_prncp_inv                          0\n",
       "last_major_derog_none                  0\n",
       "\n",
       "[68 rows x 1 columns]"
      ]
     },
     "execution_count": 4,
     "metadata": {},
     "output_type": "execute_result"
    }
   ],
   "source": [
    "# check data quality issues\n",
    "# change 'n/a' to np.nan since different wordings are used to indicate not available data\n",
    "df = df.replace('n/a', np.nan, regex=True)\n",
    "df.head(5)\n",
    "df.columns\n",
    "df.dtypes\n",
    "df.shape\n",
    "pd.set_option('display.max_rows', 10)\n",
    "# get the total number of missing values for each column\n",
    "df.isnull().sum().to_frame('null_values').sort_values('null_values', ascending=False)"
   ]
  },
  {
   "cell_type": "code",
   "execution_count": 5,
   "metadata": {
    "collapsed": false
   },
   "outputs": [],
   "source": [
    "# uncomment to print sample data for all columns\n",
    "# print df.ix[:,:10].head(5)\n",
    "# print df.ix[:,10:20].head(5)\n",
    "# print df.ix[:,20:30].head(5)\n",
    "# print df.ix[:,30:40].head(5)\n",
    "# print df.ix[:,40:50].head(5)\n",
    "# print df.ix[:,50:60].head(5)\n",
    "# print df.ix[:,60:].head(5)"
   ]
  },
  {
   "cell_type": "markdown",
   "metadata": {},
   "source": [
    "### Data Cleaning and Formatting\n",
    "#### Column\n",
    "The following columns have more than 25% of values missing:\n",
    " * mths_since_last_record: 403,649 null values.  One possibility is that this value may be null for those who do not have any public records such as bankruptcies and defaults.  Further clarification is needed from the data provider.  This data will not be used for this tech challenge.\n",
    " * mths_since_last_major_derog: 367,312 null values.  Values may be null for lenders above the rating threshold.  Further clarification needed from the data provider.  This data will not be used for this tech challenge.\n",
    " * desc: 340,318 null values.  Not much can be done to analyze this data without using NLP since each description is unique. Out of scope for this project.\n",
    " * mths_since_last_delinq: 250,351 null values.  Values may be null for lenders with no history of delinquencies.  Further clarification needed from the data provider.  This data will not be used for this tech challenge.\n",
    " * next_pymnt_d: 119,700 null values. Potentially null for those who are finished with paying off debt.  Further clarification needed from the data provider.  This data will not be used for this tech challenge.\n",
    " \n",
    "#### Row\n",
    "The following rows have null values:\n",
    " * 4 rows do not have payment_inc_ratio.  Since the proportion of missing rows is very small compared to the total number of rows, these rows need to be deleted if they are used for analysis.\n",
    " * 29 rows do not have open account information.  Since the proportion of missing rows is very small compared to the total number of rows, these rows need to be deleted if they are used for analysis.\n",
    " * They are many rows that had string 'n/a' instead of np.nan.  These strings were converted to np.nan so that no extra category is created for these null values when creating graphs.\n",
    "\n",
    "#### Dates\n",
    "There are 5 date columns in the dataset.  These date columns will be properly formatted before doing any date-related data analysis:\n",
    " * issue_d\n",
    " * earliest_cr_line\n",
    " * last_pymnt_d\n",
    " * last_credit_pull_d\n",
    " * final_d"
   ]
  },
  {
   "cell_type": "code",
   "execution_count": 6,
   "metadata": {
    "collapsed": false
   },
   "outputs": [],
   "source": [
    "# convert dates in a readable format\n",
    "df.issue_d = pd.to_datetime(df.issue_d)\n",
    "df.earliest_cr_line = pd.to_datetime(df.earliest_cr_line)\n",
    "df.last_pymnt_d = pd.to_datetime(df.last_pymnt_d)\n",
    "df.last_credit_pull_d = pd.to_datetime(df.last_credit_pull_d)\n",
    "df.final_d = pd.to_datetime(df.final_d)"
   ]
  },
  {
   "cell_type": "markdown",
   "metadata": {},
   "source": [
    "## Data Understanding"
   ]
  },
  {
   "cell_type": "code",
   "execution_count": 7,
   "metadata": {
    "collapsed": false
   },
   "outputs": [],
   "source": [
    "# create a dataframe containing numerical variables and a dataframe containing categorical variables\n",
    "df_numerical = df[['loan_amnt','int_rate','payment_inc_ratio','dti','open_acc']]\n",
    "df_categorical = df[['emp_length','home_ownership','purpose','addr_state','term']]"
   ]
  },
  {
   "cell_type": "code",
   "execution_count": 8,
   "metadata": {
    "collapsed": false
   },
   "outputs": [
    {
     "data": {
      "text/plain": [
       "<matplotlib.axes._subplots.AxesSubplot at 0x220d1860>"
      ]
     },
     "execution_count": 8,
     "metadata": {},
     "output_type": "execute_result"
    },
    {
     "data": {
      "image/png": "[encoded data removed]",
      "text/plain": [
       "<matplotlib.figure.Figure at 0x26f1be48>"
      ]
     },
     "metadata": {},
     "output_type": "display_data"
    }
   ],
   "source": [
    "# heatmap to see the correlations amongst numerical variables\n",
    "sns.heatmap(df_numerical.corr())"
   ]
  },
  {
   "cell_type": "code",
   "execution_count": 9,
   "metadata": {
    "collapsed": false
   },
   "outputs": [],
   "source": [
    "# delete rows with null values\n",
    "df_numerical.isnull().sum()\n",
    "df_numerical = df_numerical[df_numerical['payment_inc_ratio'].isnull() == False]\n",
    "df_numerical = df_numerical[df_numerical['open_acc'].isnull() == False]"
   ]
  },
  {
   "cell_type": "markdown",
   "metadata": {},
   "source": [
    "### Box Plots for Numerical Variables"
   ]
  },
  {
   "cell_type": "markdown",
   "metadata": {},
   "source": [
    "#### Loan Amount (loan_amnt)\n",
    "* Description: The listed amount of the loan applied for by the borrower.  If the credit department reduces the loan amount, the new amount will be reflected in this category.\n",
    "* Data type: Integer\n",
    "* Comment: The distribution has the mean of 14,317 and is skewed slightly to the right.  The maximum amount is 35,000, which seems to be the upper limit of loan provided by Lending Club."
   ]
  },
  {
   "cell_type": "code",
   "execution_count": 10,
   "metadata": {
    "collapsed": false
   },
   "outputs": [
    {
     "name": "stdout",
     "output_type": "stream",
     "text": [
      "int64\n",
      "count    466258.000000\n",
      "mean      14317.928218\n",
      "std        8286.328100\n",
      "min         500.000000\n",
      "25%        8000.000000\n",
      "50%       12000.000000\n",
      "75%       20000.000000\n",
      "max       35000.000000\n",
      "Name: loan_amnt, dtype: float64\n"
     ]
    }
   ],
   "source": [
    "print df_numerical.loan_amnt.dtype\n",
    "print df_numerical['loan_amnt'].describe()"
   ]
  },
  {
   "cell_type": "code",
   "execution_count": 11,
   "metadata": {
    "collapsed": false
   },
   "outputs": [
    {
     "data": {
      "text/plain": [
       "<matplotlib.axes._subplots.AxesSubplot at 0x25e679b0>"
      ]
     },
     "execution_count": 11,
     "metadata": {},
     "output_type": "execute_result"
    },
    {
     "data": {
      "image/png": "[encoded data removed]",
      "text/plain": [
       "<matplotlib.figure.Figure at 0x10d303c8>"
      ]
     },
     "metadata": {},
     "output_type": "display_data"
    }
   ],
   "source": [
    "sns.distplot(df_numerical.loan_amnt, kde=False, bins= 10)"
   ]
  },
  {
   "cell_type": "markdown",
   "metadata": {},
   "source": [
    "#### Interest Rate (int_rate)\n",
    "* Description: Interest Rate represents the interest rate on the loan.  Interest rate is determined by many factors such as the total amount of loan, credit risk of the borrower, and the length of the loan.\n",
    "* Data type: Float (percentage)\n",
    "* Comment: The distribution is relatively normally distributed.  The mean of the interest rate is 13.8% with the standard deviation of 4.4."
   ]
  },
  {
   "cell_type": "code",
   "execution_count": 12,
   "metadata": {
    "collapsed": false
   },
   "outputs": [
    {
     "name": "stdout",
     "output_type": "stream",
     "text": [
      "float64\n",
      "count    466258.000000\n",
      "mean         13.830451\n",
      "std           4.357142\n",
      "min           5.420000\n",
      "25%          10.990000\n",
      "50%          13.660000\n",
      "75%          16.490000\n",
      "max          26.060000\n",
      "Name: int_rate, dtype: float64\n"
     ]
    }
   ],
   "source": [
    "print df_numerical.int_rate.dtype\n",
    "print df_numerical['int_rate'].describe()"
   ]
  },
  {
   "cell_type": "code",
   "execution_count": 13,
   "metadata": {
    "collapsed": false
   },
   "outputs": [
    {
     "data": {
      "text/plain": [
       "<matplotlib.axes._subplots.AxesSubplot at 0x21afc438>"
      ]
     },
     "execution_count": 13,
     "metadata": {},
     "output_type": "execute_result"
    },
    {
     "data": {
      "image/png": "[encoded data removed]",
      "text/plain": [
       "<matplotlib.figure.Figure at 0x1dac4390>"
      ]
     },
     "metadata": {},
     "output_type": "display_data"
    }
   ],
   "source": [
    "sns.distplot(df_numerical.int_rate, kde=False, bins= 10)"
   ]
  },
  {
   "cell_type": "markdown",
   "metadata": {},
   "source": [
    "#### Payment-to-Income Ratio (payment_inc_ratio)\n",
    "* Description: Payment-to-Income Ratio shows how high the payment of the borrower is relative to the income.  This ratio can be used to measure the ability of the borrower to pay back the loan.\n",
    "* Data type: Float (percentage).\n",
    "* Comment: The distribution is skewed heavily to the right due to outliers (ex. 54% payment-to-income ratio)  "
   ]
  },
  {
   "cell_type": "code",
   "execution_count": 14,
   "metadata": {
    "collapsed": false
   },
   "outputs": [
    {
     "name": "stdout",
     "output_type": "stream",
     "text": [
      "float64\n",
      "count    466258.000000\n",
      "mean          8.010669\n",
      "std           4.027546\n",
      "min           0.028895\n",
      "25%           4.909250\n",
      "50%           7.519350\n",
      "75%          10.716200\n",
      "max          54.171000\n",
      "Name: payment_inc_ratio, dtype: float64\n"
     ]
    }
   ],
   "source": [
    "print df_numerical.payment_inc_ratio.dtype\n",
    "print df_numerical['payment_inc_ratio'].describe()"
   ]
  },
  {
   "cell_type": "code",
   "execution_count": 15,
   "metadata": {
    "collapsed": false
   },
   "outputs": [
    {
     "data": {
      "text/plain": [
       "<matplotlib.axes._subplots.AxesSubplot at 0x1e976748>"
      ]
     },
     "execution_count": 15,
     "metadata": {},
     "output_type": "execute_result"
    },
    {
     "data": {
      "image/png": "[encoded data removed]",
      "text/plain": [
       "<matplotlib.figure.Figure at 0x1e986278>"
      ]
     },
     "metadata": {},
     "output_type": "display_data"
    }
   ],
   "source": [
    "sns.distplot(df_numerical.payment_inc_ratio, kde=False, bins= 40)"
   ]
  },
  {
   "cell_type": "markdown",
   "metadata": {},
   "source": [
    "#### Debt-to-Income Ratio (dti)\n",
    "* Description: Debt-to-Income Ratio represents the borrower's total monthly debt payments on the total debt obligations divided by the borrower's income.\n",
    "* Data type: Float\n",
    "* Comment: The distribution is normally distributed with the mean of 17.2 and the standard deviation of 7.8.  The maximum dti in the dataset is 40.0."
   ]
  },
  {
   "cell_type": "code",
   "execution_count": 16,
   "metadata": {
    "collapsed": false
   },
   "outputs": [
    {
     "name": "stdout",
     "output_type": "stream",
     "text": [
      "float64\n",
      "count    466258.000000\n",
      "mean         17.219336\n",
      "std           7.850914\n",
      "min           0.000000\n",
      "25%          11.360000\n",
      "50%          16.870000\n",
      "75%          22.780000\n",
      "max          39.990000\n",
      "Name: dti, dtype: float64\n"
     ]
    }
   ],
   "source": [
    "print df_numerical.dti.dtype\n",
    "print df_numerical['dti'].describe()"
   ]
  },
  {
   "cell_type": "code",
   "execution_count": 17,
   "metadata": {
    "collapsed": false
   },
   "outputs": [
    {
     "data": {
      "text/plain": [
       "<matplotlib.axes._subplots.AxesSubplot at 0x241c0518>"
      ]
     },
     "execution_count": 17,
     "metadata": {},
     "output_type": "execute_result"
    },
    {
     "data": {
      "image/png": "[encoded data removed]",
      "text/plain": [
       "<matplotlib.figure.Figure at 0x241d4b70>"
      ]
     },
     "metadata": {},
     "output_type": "display_data"
    }
   ],
   "source": [
    "sns.distplot(df_numerical.dti, kde=False, bins= 40)"
   ]
  },
  {
   "cell_type": "markdown",
   "metadata": {},
   "source": [
    "#### Open Account (open_acc)\n",
    "* Description: Open Account represents the number of open credit lines in the borrower's credit file.  \n",
    "* Datatype: Float\n",
    "* Comment: The distribution is right-skewed with the mean of 11.2 and the standard deviation of 5.0.  Having more credit lines open can be a good sign since that indicates more lenders were willing to extend credit lines.  However, having an excessive number of credit lines with a high utilization rate can signal high credit risk."
   ]
  },
  {
   "cell_type": "code",
   "execution_count": 18,
   "metadata": {
    "collapsed": false
   },
   "outputs": [
    {
     "name": "stdout",
     "output_type": "stream",
     "text": [
      "float64\n",
      "count    466258.000000\n",
      "mean         11.187060\n",
      "std           4.987517\n",
      "min           0.000000\n",
      "25%           8.000000\n",
      "50%          10.000000\n",
      "75%          14.000000\n",
      "max          84.000000\n",
      "Name: open_acc, dtype: float64\n"
     ]
    }
   ],
   "source": [
    "print df_numerical.open_acc.dtype\n",
    "print df_numerical['open_acc'].describe()"
   ]
  },
  {
   "cell_type": "code",
   "execution_count": 19,
   "metadata": {
    "collapsed": false
   },
   "outputs": [
    {
     "data": {
      "text/plain": [
       "<matplotlib.axes._subplots.AxesSubplot at 0x142f4d68>"
      ]
     },
     "execution_count": 19,
     "metadata": {},
     "output_type": "execute_result"
    },
    {
     "data": {
      "image/png": "[encoded data removed]",
      "text/plain": [
       "<matplotlib.figure.Figure at 0x1895b208>"
      ]
     },
     "metadata": {},
     "output_type": "display_data"
    }
   ],
   "source": [
    "sns.distplot(df_numerical.open_acc, kde=False, bins= 40)"
   ]
  },
  {
   "cell_type": "markdown",
   "metadata": {},
   "source": [
    "### Bar Plots for Categorical Variables"
   ]
  },
  {
   "cell_type": "markdown",
   "metadata": {},
   "source": [
    "#### Employment Lengh (emp_length)\n",
    "* Description: Employment Length shows for how long the borrower was being employed at the time of loan application.  Fewer years of emplyment may indicate less consistent earning.  However, it may also indicate that the borrower is young.\n",
    "* Datatype: Object\n",
    "* Comment: Borrowers with 10+ years of employment are lumped together in the '10+ years category'."
   ]
  },
  {
   "cell_type": "code",
   "execution_count": 20,
   "metadata": {
    "collapsed": false
   },
   "outputs": [
    {
     "data": {
      "text/plain": [
       "dtype('O')"
      ]
     },
     "execution_count": 20,
     "metadata": {},
     "output_type": "execute_result"
    }
   ],
   "source": [
    "df_categorical.emp_length.dtype"
   ]
  },
  {
   "cell_type": "code",
   "execution_count": 21,
   "metadata": {
    "collapsed": false
   },
   "outputs": [
    {
     "data": {
      "text/plain": [
       "<matplotlib.axes._subplots.AxesSubplot at 0x1e976b38>"
      ]
     },
     "execution_count": 21,
     "metadata": {},
     "output_type": "execute_result"
    },
    {
     "data": {
      "image/png": "[encoded data removed]",
      "text/plain": [
       "<matplotlib.figure.Figure at 0x22a96a20>"
      ]
     },
     "metadata": {},
     "output_type": "display_data"
    }
   ],
   "source": [
    "sns.countplot(x=\"emp_length\", data=df_categorical, palette=\"Greens_d\", order=['< 1 year','1 year','2 years','3 years'\n",
    "            ,'4 years','5 years','6 years','7 years','8 years','9 years','10+ years'])"
   ]
  },
  {
   "cell_type": "markdown",
   "metadata": {},
   "source": [
    "#### Home Ownership (home_ownership)\n",
    "* Description: Home Ownership shows whether the primary residence of the borrower is owned by the borrower, is being rented, or is being mortgaged.  Borrowers who are home owners have less rent/mortgage-related payments.\n",
    "* Datatype: Object\n",
    "* Comment: Mortgage is the largest category, closely followed by Rent.  Relatively few borrowers own a house."
   ]
  },
  {
   "cell_type": "code",
   "execution_count": 22,
   "metadata": {
    "collapsed": false
   },
   "outputs": [
    {
     "data": {
      "text/plain": [
       "dtype('O')"
      ]
     },
     "execution_count": 22,
     "metadata": {},
     "output_type": "execute_result"
    }
   ],
   "source": [
    "df_categorical.emp_length.dtype"
   ]
  },
  {
   "cell_type": "code",
   "execution_count": 23,
   "metadata": {
    "collapsed": false
   },
   "outputs": [
    {
     "data": {
      "text/plain": [
       "<matplotlib.axes._subplots.AxesSubplot at 0x20925470>"
      ]
     },
     "execution_count": 23,
     "metadata": {},
     "output_type": "execute_result"
    },
    {
     "data": {
      "image/png": "[encoded data removed]",
      "text/plain": [
       "<matplotlib.figure.Figure at 0x1f36ce80>"
      ]
     },
     "metadata": {},
     "output_type": "display_data"
    }
   ],
   "source": [
    "sns.countplot(x=\"home_ownership\", data=df_categorical, palette=\"Greens_d\", order=['RENT','MORTGAGE','OWN'])"
   ]
  },
  {
   "cell_type": "markdown",
   "metadata": {},
   "source": [
    "#### Purpose (purpose)\n",
    "* Description: Purpose shows the purpose for which the loan was approved.\n",
    "* Datatype: Object\n",
    "* Comment: Debt consolidation is by far the largest category, followed by Credit Card.  These two categories may represent higher risk categories since borrowers in these two categories already had high-interest debt before applying for loan at Lending Club."
   ]
  },
  {
   "cell_type": "code",
   "execution_count": 24,
   "metadata": {
    "collapsed": false
   },
   "outputs": [
    {
     "data": {
      "text/plain": [
       "dtype('O')"
      ]
     },
     "execution_count": 24,
     "metadata": {},
     "output_type": "execute_result"
    }
   ],
   "source": [
    "df_categorical.purpose.dtype"
   ]
  },
  {
   "cell_type": "code",
   "execution_count": 25,
   "metadata": {
    "collapsed": false
   },
   "outputs": [
    {
     "data": {
      "text/plain": [
       "<matplotlib.axes._subplots.AxesSubplot at 0x11121518>"
      ]
     },
     "execution_count": 25,
     "metadata": {},
     "output_type": "execute_result"
    },
    {
     "data": {
      "image/png": "[encoded data removed]",
      "text/plain": [
       "<matplotlib.figure.Figure at 0x11121080>"
      ]
     },
     "metadata": {},
     "output_type": "display_data"
    }
   ],
   "source": [
    "plt.figure(figsize=(18,7))\n",
    "sns.countplot(x=\"purpose\", data=df_categorical, palette=\"Greens_d\", order=['car','credit_card','debt_consolidation'\n",
    "        ,'home_improvement','house','major_purchase','medical','moving','other','small_business','vacation','wedding'])"
   ]
  },
  {
   "cell_type": "markdown",
   "metadata": {},
   "source": [
    "#### Address State (addr_state)\n",
    "* Description: Address State shows the state provided by the borrower in the loan application.\n",
    "* Datatype: Object\n",
    "* Comment: California, where Lending Club is headquartered, has the most borrowers by a large margin."
   ]
  },
  {
   "cell_type": "code",
   "execution_count": 26,
   "metadata": {
    "collapsed": false
   },
   "outputs": [
    {
     "data": {
      "text/plain": [
       "dtype('O')"
      ]
     },
     "execution_count": 26,
     "metadata": {},
     "output_type": "execute_result"
    }
   ],
   "source": [
    "df_categorical.addr_state.dtype"
   ]
  },
  {
   "cell_type": "code",
   "execution_count": 27,
   "metadata": {
    "collapsed": false
   },
   "outputs": [
    {
     "data": {
      "text/plain": [
       "<matplotlib.axes._subplots.AxesSubplot at 0x224be588>"
      ]
     },
     "execution_count": 27,
     "metadata": {},
     "output_type": "execute_result"
    },
    {
     "data": {
      "image/png": "[encoded data removed]",
      "text/plain": [
       "<matplotlib.figure.Figure at 0x224be4e0>"
      ]
     },
     "metadata": {},
     "output_type": "display_data"
    }
   ],
   "source": [
    "plt.figure(figsize=(17,7))\n",
    "sns.countplot(x=\"addr_state\", data=df_categorical, palette=\"Greens_d\", order=['AK','AL','AR','AZ','CA','CO','CT','DC','DE'\n",
    "    ,'FL','GA','HI', 'IA','ID','IL','IN','KS','KY','LA','MA','MD','ME','MI','MN','MO','MS','MT','NC','NE', 'NH','NJ','NM'\n",
    "    ,'NV','NY','OH','OK','OR','PA','RI','SC','SD','TN','TX','UT','VA','VT','WA','WI','WV','WY'])"
   ]
  },
  {
   "cell_type": "markdown",
   "metadata": {},
   "source": [
    "#### Term (term)\n",
    "* Description: Term represents he number of payments on the loan (36 or 60)\n",
    "* Datatype: Object\n",
    "* Comment: There are twice as many 36-month loans as 60-month loans.  36-month loans generally offer lower interest rate."
   ]
  },
  {
   "cell_type": "code",
   "execution_count": 28,
   "metadata": {
    "collapsed": false
   },
   "outputs": [
    {
     "data": {
      "text/plain": [
       "dtype('O')"
      ]
     },
     "execution_count": 28,
     "metadata": {},
     "output_type": "execute_result"
    }
   ],
   "source": [
    "df_categorical.term.dtype"
   ]
  },
  {
   "cell_type": "code",
   "execution_count": 29,
   "metadata": {
    "collapsed": false
   },
   "outputs": [
    {
     "data": {
      "text/plain": [
       "<matplotlib.axes._subplots.AxesSubplot at 0x245f35c0>"
      ]
     },
     "execution_count": 29,
     "metadata": {},
     "output_type": "execute_result"
    },
    {
     "data": {
      "image/png": "[encoded data removed]",
      "text/plain": [
       "<matplotlib.figure.Figure at 0x21f51278>"
      ]
     },
     "metadata": {},
     "output_type": "display_data"
    }
   ],
   "source": [
    "sns.countplot(x=\"term\", data=df_categorical, palette=\"Greens_d\")"
   ]
  },
  {
   "cell_type": "markdown",
   "metadata": {},
   "source": [
    "### Average Loan Amount, DTI, and PTI"
   ]
  },
  {
   "cell_type": "code",
   "execution_count": 30,
   "metadata": {
    "collapsed": false
   },
   "outputs": [
    {
     "name": "stdout",
     "output_type": "stream",
     "text": [
      "Average Loan Amount: 14317.2805054\n",
      "Average DTI: 17.2187468448\n",
      "Average PTI: 8.01044357929\n"
     ]
    }
   ],
   "source": [
    "# average loan amount\n",
    "print \"Average Loan Amount: \" + str(df['loan_amnt'].mean())\n",
    "# average DTI\n",
    "print \"Average DTI: \" + str(df['dti'].mean())\n",
    "# average PTI\n",
    "print \"Average PTI: \" + str(df['payment_inc_ratio'].mean())"
   ]
  },
  {
   "cell_type": "markdown",
   "metadata": {},
   "source": [
    "### The most common month for Issuing new Loans\n",
    "October"
   ]
  },
  {
   "cell_type": "code",
   "execution_count": 31,
   "metadata": {
    "collapsed": false
   },
   "outputs": [
    {
     "data": {
      "text/plain": [
       "[(10, 63342),\n",
       " (11, 50551),\n",
       " (7, 49537),\n",
       " (8, 40636),\n",
       " (12, 36078),\n",
       " (5, 36016),\n",
       " (6, 35389),\n",
       " (4, 34787),\n",
       " (9, 33553),\n",
       " (3, 30702),\n",
       " (2, 27978),\n",
       " (1, 27718)]"
      ]
     },
     "execution_count": 31,
     "metadata": {},
     "output_type": "execute_result"
    }
   ],
   "source": [
    "# the most common month for issuing new loans\n",
    "Counter(df['issue_d'].dt.month).most_common()"
   ]
  },
  {
   "cell_type": "markdown",
   "metadata": {},
   "source": [
    "### The most common day on which loans were fully paid off"
   ]
  },
  {
   "cell_type": "code",
   "execution_count": 32,
   "metadata": {
    "collapsed": false
   },
   "outputs": [
    {
     "data": {
      "text/plain": [
       "[(1, 466287)]"
      ]
     },
     "execution_count": 32,
     "metadata": {},
     "output_type": "execute_result"
    }
   ],
   "source": [
    "# the most common day on which loans were fully paid off\n",
    "Counter(df['issue_d'].dt.day).most_common()"
   ]
  },
  {
   "cell_type": "markdown",
   "metadata": {},
   "source": [
    "The most common day that loans were fully paid off is the 1st of every month.  It appears that all dates are put in at a month level, and all dates are recorded as of the 1st of every month by default.  Therefore, the result offers limited insight."
   ]
  },
  {
   "cell_type": "markdown",
   "metadata": {},
   "source": [
    "### Bar graphs for Grades and Subgrades"
   ]
  },
  {
   "cell_type": "code",
   "execution_count": 33,
   "metadata": {
    "collapsed": false
   },
   "outputs": [
    {
     "data": {
      "text/plain": [
       "<matplotlib.axes._subplots.AxesSubplot at 0x1813d550>"
      ]
     },
     "execution_count": 33,
     "metadata": {},
     "output_type": "execute_result"
    },
    {
     "data": {
      "image/png": "[encoded data removed]",
      "text/plain": [
       "<matplotlib.figure.Figure at 0x26873198>"
      ]
     },
     "metadata": {},
     "output_type": "display_data"
    }
   ],
   "source": [
    "# a bar graph for grades\n",
    "sns.countplot(x=\"grade\", data=df, palette=\"Greens_d\", order=['A','B','C','D','E','F','G'])"
   ]
  },
  {
   "cell_type": "code",
   "execution_count": 34,
   "metadata": {
    "collapsed": false
   },
   "outputs": [
    {
     "data": {
      "text/plain": [
       "<matplotlib.axes._subplots.AxesSubplot at 0x151beb00>"
      ]
     },
     "execution_count": 34,
     "metadata": {},
     "output_type": "execute_result"
    },
    {
     "data": {
      "image/png": "[encoded data removed]",
      "text/plain": [
       "<matplotlib.figure.Figure at 0x224a7a58>"
      ]
     },
     "metadata": {},
     "output_type": "display_data"
    }
   ],
   "source": [
    "# a bar graph for subgrades\n",
    "sns.countplot(x=\"sub_grade\", data=df, palette=\"Greens_d\", order=['A1','A2','A3','A4','A5','B1','B2','B3','B4','B5','C1','C2'\n",
    "    ,'C3','C4','C5','D1','D2','D3','D4','D5','E1','E2','E3','E4','E5','F1','F2','F3','F4','F5','G1','G2','G3','G4','G5'])"
   ]
  },
  {
   "cell_type": "markdown",
   "metadata": {},
   "source": [
    "The majority of Lending Club's current portfolio is loans with grade B or C.  One explanation for this is that borrowers with grade A get better interest rates from traditional banks, and borrowers with grade lower than C often do not meet the requirements for Lending Club."
   ]
  },
  {
   "cell_type": "markdown",
   "metadata": {},
   "source": [
    "### Status Variable"
   ]
  },
  {
   "cell_type": "code",
   "execution_count": 35,
   "metadata": {
    "collapsed": false
   },
   "outputs": [
    {
     "data": {
      "text/plain": [
       "[('Current', 333472),\n",
       " ('Fully Paid', 99457),\n",
       " ('Charged Off', 22911),\n",
       " ('Late (31-120 days)', 5920),\n",
       " ('In Grace Period', 3250),\n",
       " ('Late (16-30 days)', 1038),\n",
       " ('Default', 239)]"
      ]
     },
     "execution_count": 35,
     "metadata": {},
     "output_type": "execute_result"
    }
   ],
   "source": [
    "# Status variable\n",
    "Counter(df['status']).most_common()"
   ]
  },
  {
   "cell_type": "markdown",
   "metadata": {},
   "source": [
    "Status Variables:\n",
    "* Current - 333,472: Loan is up to date on all outstanding payments.\n",
    "* Fully Paid - 99,457: Loan has been fully repaid, either at the expiration of the 3- or 5-year year term or as a result of a prepayment.\n",
    "* Charged Off - 22,911: Loan for which there is no longer a reasonable expectation of further payments.  Generally, Charge Off occurs no later than 30 days after the Default status is reached.\n",
    "* Late (31-120 days) - 5,920: Loan has not been current for 31 to 120 days.\n",
    "* In Grace Period - 3,250: Loan is past due but within the 15-day grace period.\n",
    "* Late (16-30 days) - 1,038: Loan has not been current for 16 to 30 days.\n",
    "* Default - 239: Loan has not been current for 121 days or more.\n",
    "\n",
    "Source: https://help.lendingclub.com/hc/en-us/articles/215488038\n",
    "\n",
    "'Current' and 'Fully Paid' are the largest categories, which is a good sign given that they represent on-time payment.  However, loans for which on-time payment is not made sums up to 33,358 (9% of all loans).  The delinquency rate of 9% is very high compared to delinquency rates of consumer loans of 2% at commercial banks (https://www.federalreserve.gov/releases/chargeoff/delallsa.htm).\n",
    "\n",
    "The status of loan is important in understanding the business model of Lending Club because the status of loan has a direct impact on the revenue of the company.  Lending Club should make an attempt to optimize the risk-adjusted return by minimizing delinquencies at a optimal risk level."
   ]
  },
  {
   "cell_type": "code",
   "execution_count": 36,
   "metadata": {
    "collapsed": false
   },
   "outputs": [],
   "source": [
    "# create a flag variable indicating whether or not a loan is bad.\n",
    "df['flag'] = df.apply(lambda x: 1 if x['status'] in ['Current','Fully Paid'] else 0, axis=1)"
   ]
  },
  {
   "cell_type": "code",
   "execution_count": 37,
   "metadata": {
    "collapsed": false
   },
   "outputs": [
    {
     "data": {
      "image/png": "[encoded data removed]",
      "text/plain": [
       "<matplotlib.figure.Figure at 0x1b0342e8>"
      ]
     },
     "metadata": {},
     "output_type": "display_data"
    }
   ],
   "source": [
    "# boxplot comparing good loan (flag 1) and bad loan (flag 0)\n",
    "fig, axs = plt.subplots(2,3,figsize=(12, 15))\n",
    "axs[-1, -1].axis('off')\n",
    "ax = sns.boxplot(x=\"flag\", y=\"loan_amnt\", data=df, ax=axs[0,0], showfliers=False)\n",
    "ax = sns.boxplot(x=\"flag\", y=\"int_rate\", data=df, ax=axs[0,1], showfliers=False)\n",
    "ax = sns.boxplot(x=\"flag\", y=\"installment\", data=df, ax=axs[0,2], showfliers=False)\n",
    "ax = sns.boxplot(x=\"flag\", y=\"annual_inc\", data=df, ax=axs[1,0], showfliers=False)\n",
    "ax = sns.boxplot(x=\"flag\", y=\"payment_inc_ratio\", data=df, ax=axs[1,1], showfliers=False)"
   ]
  },
  {
   "cell_type": "markdown",
   "metadata": {},
   "source": [
    "Of the above five variables, Interest Rate(int_rate), Annual Income(annual_inc), and Payment-to-Income Ratio (payment_inc_ratio) seem to be visibly different depending on status category.  Even though correlation does not necessarily mean causation, we can make the following hypotheses on how each variable can cause loans to go bad:\n",
    "\n",
    "Higher interest rate can have a negative impact on loan status by adding extra burden on installment.  Annual income seems to have a postive effect on loan status.  Borrowers with higher annual income have more money to pay back their loan.  High Payment-to-Income Ratio can have a negative impact on loan status because more money needs to be repaid by the borrower each month.\n",
    "\n",
    "Loan amount(loan_amnt) and Installment(installment) were similar in flag 0 and 1."
   ]
  },
  {
   "cell_type": "markdown",
   "metadata": {},
   "source": [
    "### Conclusions"
   ]
  },
  {
   "cell_type": "markdown",
   "metadata": {},
   "source": [
    "Based on Lending Club's portfolio of loans, the largest categories of loans are grades B and C.  Lending Club seems to target borrowers who are less likely to get good rates at banks but are relatively less risky.  In order to optimize it's risk-adjusted return, Lending Club can examine which factors have biggest impact on default rate.  This may mean that Lending Club will need to gather additional data not included in the current dataset.\n",
    "\n",
    "With the reformatted date columns, we can look at how Lending Club's portfolio of loans has changed from 2007 to 2014.  With external dataset on Lending Club's stock price, we can see if there is any correlation between Lending Club's portfolio of loans and Lending Club's stock price."
   ]
  }
 ],
 "metadata": {
  "kernelspec": {
   "display_name": "Python 2",
   "language": "python",
   "name": "python2"
  },
  "language_info": {
   "codemirror_mode": {
    "name": "ipython",
    "version": 2
   },
   "file_extension": ".py",
   "mimetype": "text/x-python",
   "name": "python",
   "nbconvert_exporter": "python",
   "pygments_lexer": "ipython2",
   "version": "2.7.13"
  }
 },
 "nbformat": 4,
 "nbformat_minor": 2
}
